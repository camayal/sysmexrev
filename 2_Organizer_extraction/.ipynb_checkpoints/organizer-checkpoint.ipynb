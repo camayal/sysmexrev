{
 "metadata": {
  "language_info": {
   "codemirror_mode": {
    "name": "ipython",
    "version": 3
   },
   "file_extension": ".py",
   "mimetype": "text/x-python",
   "name": "python",
   "nbconvert_exporter": "python",
   "pygments_lexer": "ipython3",
   "version": "3.9.4"
  },
  "orig_nbformat": 2,
  "kernelspec": {
   "name": "python394jvsc74a57bd0dd67be7cde95a82f2c6722b61600a7fc228d2c9cced8586fb06f345deb16a218",
   "display_name": "Python 3.9.4 64-bit"
  },
  "metadata": {
   "interpreter": {
    "hash": "dd67be7cde95a82f2c6722b61600a7fc228d2c9cced8586fb06f345deb16a218"
   }
  }
 },
 "nbformat": 4,
 "nbformat_minor": 2,
 "cells": [
  {
   "cell_type": "code",
   "execution_count": 2,
   "metadata": {},
   "outputs": [],
   "source": [
    "#import modules\n",
    "from fuzzywuzzy import fuzz\n",
    "import os"
   ]
  },
  {
   "cell_type": "code",
   "execution_count": 3,
   "metadata": {
    "tags": []
   },
   "outputs": [
    {
     "output_type": "stream",
     "name": "stdout",
     "text": [
      "Number of elements in publications: 62144\nNumber of unique elements in publications: 12564\n"
     ]
    }
   ],
   "source": [
    "#Open database to extract publications only\n",
    "with open(\"../Datataxa_extraction/FIRSTTEST.csv\", mode=\"r\") as file:\n",
    "    lines = file.readlines()\n",
    "    publications = []\n",
    "    for line in lines:\n",
    "        #Split line in cells\n",
    "        cells = line.split(\"\\\",\\\"\")\n",
    "        #If line contains more than 2 cells (third one contains publication info) extract it\n",
    "        if len(cells) >= 2:\n",
    "            publications_cell = cells[2]\n",
    "            publications.extend(publications_cell.split(\"|\"))\n",
    "    #Remove duplicates and sort them alphabetically\n",
    "    unique_publications = sorted(list(set(publications)))\n",
    "\n",
    "#Print values\n",
    "print(f\"Number of elements in publications: {len(publications)}\")\n",
    "print(f\"Number of unique elements in publications: {len(unique_publications)}\")"
   ]
  },
  {
   "cell_type": "code",
   "execution_count": 4,
   "metadata": {},
   "outputs": [],
   "source": [
    "import time"
   ]
  },
  {
   "cell_type": "code",
   "execution_count": 23,
   "metadata": {},
   "outputs": [
    {
     "output_type": "stream",
     "name": "stdout",
     "text": [
      "Number of unique elements in publications after similarity filter: 12169\n"
     ]
    }
   ],
   "source": [
    "#Remove very similar titles\n",
    "# copy list\n",
    "publications_to_filter = unique_publications.copy()\n",
    "\n",
    "#test\n",
    "# publications_to_filter =[\n",
    "#     \"A phylogenetic analysis of the Mimosoideae (Leguminosae) based on chloroplast sequence data\",\n",
    "#     \"A Diploids-First Approach to Species Delimitation and Interpreting Polyploid Evolution in the Fern Genus Astrolepis (Pteridaceae)\",\n",
    "#     \"A New Phylogeny for the Grasses\",\n",
    "#     \"A diploids-first approach to species delimitation and interpreting polyploid evolution in the fern genus Astrolepis (Pteridaceae)\",\n",
    "#     \"A phylogenetic analysis of the Mimosoideae (Leguminosae) based on chloroplast DNA sequence data\",\n",
    "# ]\n",
    "\n",
    "#check if files exist and remove them\n",
    "removed_file = \"removed_titles.txt\"\n",
    "if os.path.exists(removed_file):\n",
    "    os.remove(removed_file)\n",
    "\n",
    "conserved_file =  \"conserved_titles.txt\"\n",
    "if os.path.exists(conserved_file):\n",
    "    os.remove(conserved_file)\n",
    "\n",
    "#open file to save removed titles for double check\n",
    "with open(removed_file, \"a\") as file:\n",
    "    # doble iteration to check all values\n",
    "    for i, t1 in enumerate(publications_to_filter):\n",
    "        if t1:\n",
    "            for j, t2 in enumerate(publications_to_filter[i:]):\n",
    "                print(f\"Progress: {i} of {len(publications_to_filter)}\", end=\"\\r\")\n",
    "                #get distance between titles\n",
    "                if t2:\n",
    "                    distance = fuzz.token_sort_ratio(t1.lower(), t2.lower())\n",
    "                    #check that is not the same title\n",
    "                    if i != j+i:\n",
    "                        #if distance is greater than remove this title\n",
    "                        if distance > 95:\n",
    "                            file.write(f\"{t1}\\n{t2}\\t{distance}\\n\\n\")\n",
    "                            publications_to_filter[j+i] = None\n",
    "\n",
    "#purge Nones from list\n",
    "ratio_publications = [i for i in publications_to_filter if i != None]\n",
    "with open(conserved_file, \"w\") as file:\n",
    "    file.write(\"\\n\".join(ratio_publications))\n",
    "print(f\"Number of unique elements in publications after similarity filter: {len(ratio_publications)}\")"
   ]
  },
  {
   "cell_type": "code",
   "execution_count": null,
   "metadata": {},
   "outputs": [],
   "source": [
    "#Export list in a html format  or csv to import in google sheets to contain a scholar link (and maybe a google link as second choice) like:\n",
    "#https://scholar.google.com/scholar?q=Molecular+phylogeny+and+character+evolution+of+Anemiaceae+%28Schizaeales%29"
   ]
  }
 ]
}